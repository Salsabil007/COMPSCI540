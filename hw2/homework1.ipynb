{
 "cells": [
  {
   "cell_type": "code",
   "execution_count": 31,
   "id": "eeb3a8fc",
   "metadata": {},
   "outputs": [],
   "source": [
    "import sys\n",
    "import math\n",
    "from collections import Counter\n",
    "import string\n",
    "import numpy as np"
   ]
  },
  {
   "cell_type": "code",
   "execution_count": 2,
   "id": "42b05bb5",
   "metadata": {},
   "outputs": [],
   "source": [
    "def get_parameter_vectors():\n",
    "    '''\n",
    "    This function parses e.txt and s.txt to get the  26-dimensional multinomial\n",
    "    parameter vector (characters probabilities of English and Spanish) as\n",
    "    descibed in section 1.2 of the writeup\n",
    "\n",
    "    Returns: tuple of vectors e and s\n",
    "    '''\n",
    "    #Implementing vectors e,s as lists (arrays) of length 26\n",
    "    #with p[0] being the probability of 'A' and so on\n",
    "    e=[0]*26\n",
    "    s=[0]*26\n",
    "\n",
    "    with open('e.txt',encoding='utf-8') as f:\n",
    "        for line in f:\n",
    "            #strip: removes the newline character\n",
    "            #split: split the string on space character\n",
    "            char,prob=line.strip().split(\" \")\n",
    "            #ord('E') gives the ASCII (integer) value of character 'E'\n",
    "            #we then subtract it from 'A' to give array index\n",
    "            #This way 'A' gets index 0 and 'Z' gets index 25.\n",
    "            e[ord(char)-ord('A')]=float(prob)\n",
    "    f.close()\n",
    "\n",
    "    with open('s.txt',encoding='utf-8') as f:\n",
    "        for line in f:\n",
    "            char,prob=line.strip().split(\" \")\n",
    "            s[ord(char)-ord('A')]=float(prob)\n",
    "    f.close()\n",
    "\n",
    "    return (e,s)\n"
   ]
  },
  {
   "cell_type": "code",
   "execution_count": 45,
   "id": "7ee8539b",
   "metadata": {},
   "outputs": [],
   "source": [
    "mylist = []\n",
    "def shred(filename):\n",
    "    #Using a dictionary here. You may change this to any data structure of\n",
    "    #your choice such as lists (X=[]) etc. for the assignment\n",
    "    X=dict()\n",
    "    with open (filename,encoding='utf-8') as f:\n",
    "        # TODO: add your code here\n",
    "        st = f.read()\n",
    "        st = st.upper()\n",
    "        #print(st)\n",
    "        for char in string.ascii_uppercase:\n",
    "            X[char] = st.count(char)\n",
    "            mylist.append(st.count(char))\n",
    "        \n",
    "    return X"
   ]
  },
  {
   "cell_type": "code",
   "execution_count": 46,
   "id": "a80e8b6a",
   "metadata": {},
   "outputs": [
    {
     "name": "stdout",
     "output_type": "stream",
     "text": [
      "Q1\n"
     ]
    }
   ],
   "source": [
    "print(\"Q1\")\n",
    "X = shred(\"letter.txt\")"
   ]
  },
  {
   "cell_type": "code",
   "execution_count": 47,
   "id": "ecf6a4ce",
   "metadata": {},
   "outputs": [],
   "source": [
    "e,s = get_parameter_vectors()"
   ]
  },
  {
   "cell_type": "code",
   "execution_count": 48,
   "id": "1ec61ac9",
   "metadata": {},
   "outputs": [
    {
     "name": "stdout",
     "output_type": "stream",
     "text": [
      "{'A': 1, 'B': 0, 'C': 0, 'D': 0, 'E': 0, 'F': 0, 'G': 0, 'H': 0, 'I': 0, 'J': 0, 'K': 0, 'L': 0, 'M': 0, 'N': 0, 'O': 0, 'P': 0, 'Q': 0, 'R': 0, 'S': 0, 'T': 0, 'U': 0, 'V': 0, 'W': 0, 'X': 0, 'Y': 0, 'Z': 0}\n",
      "2\n"
     ]
    }
   ],
   "source": [
    "print(X)\n",
    "print(ord('C')-ord('A'))"
   ]
  },
  {
   "cell_type": "code",
   "execution_count": 49,
   "id": "8623df95",
   "metadata": {},
   "outputs": [
    {
     "name": "stdout",
     "output_type": "stream",
     "text": [
      "-2.4836\n",
      "-2.1066\n"
     ]
    }
   ],
   "source": [
    "char = 'A'\n",
    "print('%0.4f' % (X[char] * np.log(e[ord(char)-ord('A')])))\n",
    "print('%0.4f' % (X[char] * np.log(s[ord(char)-ord('A')])))"
   ]
  },
  {
   "cell_type": "code",
   "execution_count": 67,
   "id": "7d0a6214",
   "metadata": {},
   "outputs": [
    {
     "name": "stdout",
     "output_type": "stream",
     "text": [
      "[1 0 0 0 0 0 0 0 0 0 0 0 0 0 0 0 0 0 0 0 0 0 0 0 0 0]\n",
      "[0.0834417, 0.0154077, 0.0273137, 0.0414207, 0.126063, 0.0203102, 0.0192096, 0.0611306, 0.0671336, 0.00230115, 0.00870435, 0.0424212, 0.0253127, 0.068034, 0.0770385, 0.0166083, 0.00090045, 0.0568284, 0.0611306, 0.0937469, 0.0285143, 0.0106053, 0.0234117, 0.002001, 0.0204102, 0.0006003]\n"
     ]
    }
   ],
   "source": [
    "#print(e)\n",
    "myar = np.array(mylist)\n",
    "print(myar)\n",
    "#myar = myar.T\n",
    "#print(myar.shape)\n",
    "print(e)"
   ]
  },
  {
   "cell_type": "code",
   "execution_count": 71,
   "id": "7e01aa6a",
   "metadata": {},
   "outputs": [
    {
     "name": "stdout",
     "output_type": "stream",
     "text": [
      "[-2.48360709 -4.17288789 -3.60036687 -3.18397452 -2.0709735  -3.89663206\n",
      " -3.95234512 -2.79474272 -2.70107062 -6.07434628 -4.74393238 -3.16010704\n",
      " -3.67644903 -2.6877477  -2.56344998 -4.09785271 -7.01261592 -2.86771908\n",
      " -2.79474272 -2.36715668 -3.55734956 -4.5464014  -3.75451938 -6.21410822\n",
      " -3.8917205  -7.41808103]\n"
     ]
    }
   ],
   "source": [
    "er = np.array(e)\n",
    "er = np.log(er)\n",
    "#er = er.T\n",
    "print(er)\n"
   ]
  },
  {
   "cell_type": "code",
   "execution_count": 72,
   "id": "d3842d33",
   "metadata": {},
   "outputs": [
    {
     "name": "stdout",
     "output_type": "stream",
     "text": [
      "-2.994432718341776\n"
     ]
    }
   ],
   "source": [
    "a = np.inner(myar,er) + np.log(0.6)\n",
    "print(a)"
   ]
  },
  {
   "cell_type": "code",
   "execution_count": 73,
   "id": "ca949b5b",
   "metadata": {},
   "outputs": [
    {
     "name": "stdout",
     "output_type": "stream",
     "text": [
      "[-2.10661543 -4.20599146 -3.25151524 -3.06361077 -1.96001719 -4.97583395\n",
      " -4.60477027 -4.43925752 -2.81635003 -5.25869673 -6.81204518 -2.948448\n",
      " -3.47984132 -2.65886012 -2.38556678 -3.54351238 -4.50041385 -2.74691006\n",
      " -2.63068924 -3.07871396 -3.05933683 -4.5559801  -7.82364609 -6.57088312\n",
      " -4.5185889  -5.35979285]\n",
      "-3.0229061619646984\n"
     ]
    }
   ],
   "source": [
    "sr = np.array(s)\n",
    "sr = np.log(sr)\n",
    "#er = er.T\n",
    "print(sr)\n",
    "a = np.inner(myar,sr) + np.log(0.4)\n",
    "print(a)"
   ]
  },
  {
   "cell_type": "code",
   "execution_count": null,
   "id": "83e5e388",
   "metadata": {},
   "outputs": [],
   "source": [
    "i = 0\n",
    "sm = 0\n",
    "for char in string.ascii_uppercase:\n",
    "    sm += (X[char]+e[i])\n",
    "    i += 1\n"
   ]
  }
 ],
 "metadata": {
  "kernelspec": {
   "display_name": "Python 3 (ipykernel)",
   "language": "python",
   "name": "python3"
  },
  "language_info": {
   "codemirror_mode": {
    "name": "ipython",
    "version": 3
   },
   "file_extension": ".py",
   "mimetype": "text/x-python",
   "name": "python",
   "nbconvert_exporter": "python",
   "pygments_lexer": "ipython3",
   "version": "3.9.6"
  }
 },
 "nbformat": 4,
 "nbformat_minor": 5
}
